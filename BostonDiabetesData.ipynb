import pandas as pd
import numpy as np
import random

from sklearn import datasets

from sklearn.preprocessing import StandardScaler
from sklearn.model_selection import train_test_split
from sklearn.linear_model import LinearRegression
from sklearn.linear_model import Lasso
from sklearn.linear_model import Ridge

from sklearn.tree import DecisionTreeClassifier
from sklearn.tree import DecisionTreeRegressor

from sklearn.ensemble import RandomForestClassifier
from sklearn.ensemble import RandomForestRegressor

from sklearn.ensemble import BaggingClassifier

from sklearn.metrics import mean_squared_error
from sklearn.metrics import confusion_matrix
from sklearn.metrics import accuracy_score

import matplotlib.pyplot as plt

data = datasets.load_diabetes()

X = pd.DataFrame(data.data,columns=data.feature_names)

y = data.target

random.seed(123)
#Split the data set into test and train here


X.describe

y.mean()

X['s1'].mean()

X['s2'].mean()

X['s3'].mean()

X['s4'].mean()

plt.scatter(X['age'],y)

plt.scatter(X['bmi'],y)

plt.scatter(X['sex'],y)

plt.scatter(X['s4'],y)

X.corr().style.background_gradient(cmap='coolwarm')

random.seed(123)

x_training_set, x_test_set, y_training_set, y_test_set = train_test_split(X,y,test_size=0.20,random_state=1)

x_test_set.count()

x_training_set.count()

lin_model = LinearRegression()
lin_model.fit(x_training_set,y_training_set)

y_predicted_LR = lin_model.predict(x_test_set)

mean_squared_error(y_test_set,y_predicted_LR)

dt_model = DecisionTreeRegressor(max_depth=2,random_state=1,ccp_alpha=0)
dt_model.fit(x_training_set,y_training_set)

y_predicted_DT =dt_model.predict(x_test_set)

mean_squared_error(y_test_set,y_predicted_DT)

rft_model = RandomForestRegressor(max_depth=2,random_state=1)
rft_model.fit(x_training_set,y_training_set)

y_hat = rft_model.predict(x_test_set)

mean_squared_error(y_test_set,y_hat)

lasso_model = Lasso(alpha=0.01)
lasso_model.fit(x_training_set,y_training_set)

y_predicted_Lasso = lasso_model.predict(x_test_set)

mean_squared_error(y_test_set,y_predicted_Lasso)

ridge_model = Ridge(alpha=.5)
ridge_model.fit(x_training_set,y_training_set)

y_predicted_ridge = ridge_model.predict(x_test_set)

mean_squared_error(y_test_set,y_predicted_ridge)
