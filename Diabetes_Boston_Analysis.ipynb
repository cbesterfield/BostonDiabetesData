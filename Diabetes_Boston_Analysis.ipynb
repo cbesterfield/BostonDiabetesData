{
  "nbformat": 4,
  "nbformat_minor": 0,
  "metadata": {
    "colab": {
      "name": "Diabetes_Boston_Analysis.ipynb",
      "provenance": [],
      "collapsed_sections": []
    },
    "kernelspec": {
      "name": "python3",
      "display_name": "Python 3"
    }
  },
  "cells": [
    {
      "cell_type": "code",
      "metadata": {
        "id": "o2MGAoug3eED"
      },
      "source": [
        "import pandas as pd\n",
        "import numpy as np\n",
        "import random\n",
        "\n",
        "from sklearn import datasets\n",
        "\n",
        "from sklearn.preprocessing import StandardScaler\n",
        "from sklearn.model_selection import train_test_split\n",
        "from sklearn.linear_model import LinearRegression\n",
        "from sklearn.linear_model import Lasso\n",
        "from sklearn.linear_model import Ridge\n",
        "\n",
        "from sklearn.tree import DecisionTreeClassifier\n",
        "from sklearn.tree import DecisionTreeRegressor\n",
        "\n",
        "from sklearn.ensemble import RandomForestClassifier\n",
        "from sklearn.ensemble import RandomForestRegressor\n",
        "\n",
        "from sklearn.ensemble import BaggingClassifier\n",
        "\n",
        "from sklearn.metrics import mean_squared_error\n",
        "from sklearn.metrics import confusion_matrix\n",
        "from sklearn.metrics import accuracy_score\n",
        "\n",
        "import matplotlib.pyplot as plt"
      ],
      "execution_count": null,
      "outputs": []
    },
    {
      "cell_type": "code",
      "metadata": {
        "id": "BIz6vm4T3i8_"
      },
      "source": [
        "data = datasets.load_diabetes()"
      ],
      "execution_count": null,
      "outputs": []
    },
    {
      "cell_type": "code",
      "metadata": {
        "id": "kJvfmb3l3CQu"
      },
      "source": [
        "X = pd.DataFrame(data.data,columns=data.feature_names)"
      ],
      "execution_count": null,
      "outputs": []
    },
    {
      "cell_type": "code",
      "metadata": {
        "id": "BaC3E1N23Gdq"
      },
      "source": [
        "y = data.target"
      ],
      "execution_count": null,
      "outputs": []
    },
    {
      "cell_type": "code",
      "metadata": {
        "id": "XmRhLMtCoPtB"
      },
      "source": [
        "random.seed(123)\n",
        "#Split the data set into test and train here\n"
      ],
      "execution_count": null,
      "outputs": []
    },
    {
      "cell_type": "code",
      "metadata": {
        "id": "FKQOG-aUhdH2",
        "colab": {
          "base_uri": "https://localhost:8080/"
        },
        "outputId": "d618caf6-837e-4cdc-eff1-a2a8a846dcc0"
      },
      "source": [
        "X.describe"
      ],
      "execution_count": null,
      "outputs": [
        {
          "output_type": "execute_result",
          "data": {
            "text/plain": [
              "<bound method NDFrame.describe of           age       sex       bmi  ...        s4        s5        s6\n",
              "0    0.038076  0.050680  0.061696  ... -0.002592  0.019908 -0.017646\n",
              "1   -0.001882 -0.044642 -0.051474  ... -0.039493 -0.068330 -0.092204\n",
              "2    0.085299  0.050680  0.044451  ... -0.002592  0.002864 -0.025930\n",
              "3   -0.089063 -0.044642 -0.011595  ...  0.034309  0.022692 -0.009362\n",
              "4    0.005383 -0.044642 -0.036385  ... -0.002592 -0.031991 -0.046641\n",
              "..        ...       ...       ...  ...       ...       ...       ...\n",
              "437  0.041708  0.050680  0.019662  ... -0.002592  0.031193  0.007207\n",
              "438 -0.005515  0.050680 -0.015906  ...  0.034309 -0.018118  0.044485\n",
              "439  0.041708  0.050680 -0.015906  ... -0.011080 -0.046879  0.015491\n",
              "440 -0.045472 -0.044642  0.039062  ...  0.026560  0.044528 -0.025930\n",
              "441 -0.045472 -0.044642 -0.073030  ... -0.039493 -0.004220  0.003064\n",
              "\n",
              "[442 rows x 10 columns]>"
            ]
          },
          "metadata": {},
          "execution_count": 6
        }
      ]
    },
    {
      "cell_type": "code",
      "metadata": {
        "id": "sb2A6m6qhv_s",
        "colab": {
          "base_uri": "https://localhost:8080/"
        },
        "outputId": "59c20d4b-c2db-4915-e54a-129916213f33"
      },
      "source": [
        "y.mean()"
      ],
      "execution_count": null,
      "outputs": [
        {
          "output_type": "execute_result",
          "data": {
            "text/plain": [
              "152.13348416289594"
            ]
          },
          "metadata": {},
          "execution_count": 7
        }
      ]
    },
    {
      "cell_type": "code",
      "metadata": {
        "id": "0aT1-7SuiDj4",
        "colab": {
          "base_uri": "https://localhost:8080/"
        },
        "outputId": "2f57b714-3d75-4ff1-8db9-1976d40a7ea4"
      },
      "source": [
        "X['s1'].mean()"
      ],
      "execution_count": null,
      "outputs": [
        {
          "output_type": "execute_result",
          "data": {
            "text/plain": [
              "-8.835315586242054e-17"
            ]
          },
          "metadata": {},
          "execution_count": 8
        }
      ]
    },
    {
      "cell_type": "code",
      "metadata": {
        "id": "0vh7QJ2TiMd2",
        "colab": {
          "base_uri": "https://localhost:8080/"
        },
        "outputId": "ca19fae2-94bf-4f4b-e8b6-b507f40a8249"
      },
      "source": [
        "X['s2'].mean()"
      ],
      "execution_count": null,
      "outputs": [
        {
          "output_type": "execute_result",
          "data": {
            "text/plain": [
              "1.327024211984792e-16"
            ]
          },
          "metadata": {},
          "execution_count": 9
        }
      ]
    },
    {
      "cell_type": "code",
      "metadata": {
        "id": "_-3CBeWsiPoj",
        "colab": {
          "base_uri": "https://localhost:8080/"
        },
        "outputId": "dbdcac5b-4e5e-4601-ac29-44cb8bcbf82a"
      },
      "source": [
        "X['s3'].mean()"
      ],
      "execution_count": null,
      "outputs": [
        {
          "output_type": "execute_result",
          "data": {
            "text/plain": [
              "-4.574646342983182e-16"
            ]
          },
          "metadata": {},
          "execution_count": 10
        }
      ]
    },
    {
      "cell_type": "code",
      "metadata": {
        "id": "_3yv1_zIiS3U",
        "colab": {
          "base_uri": "https://localhost:8080/"
        },
        "outputId": "db54774b-ebf7-4f19-f7c5-6184d486e424"
      },
      "source": [
        "X['s4'].mean()"
      ],
      "execution_count": null,
      "outputs": [
        {
          "output_type": "execute_result",
          "data": {
            "text/plain": [
              "3.777301498233299e-16"
            ]
          },
          "metadata": {},
          "execution_count": 11
        }
      ]
    },
    {
      "cell_type": "code",
      "metadata": {
        "id": "DPZ2Wms0ig9M",
        "colab": {
          "base_uri": "https://localhost:8080/",
          "height": 282
        },
        "outputId": "aa7931d9-4339-47a4-b134-15965afd80f7"
      },
      "source": [
        "plt.scatter(X['age'],y)"
      ],
      "execution_count": null,
      "outputs": [
        {
          "output_type": "execute_result",
          "data": {
            "text/plain": [
              "<matplotlib.collections.PathCollection at 0x7fcbf50fc450>"
            ]
          },
          "metadata": {},
          "execution_count": 12
        },
        {
          "output_type": "display_data",
          "data": {
            "image/png": "[encoded data removed]",
            "text/plain": [
              "<Figure size 432x288 with 1 Axes>"
            ]
          },
          "metadata": {
            "needs_background": "light"
          }
        }
      ]
    },
    {
      "cell_type": "code",
      "metadata": {
        "id": "lhD5Sw1bij8z",
        "colab": {
          "base_uri": "https://localhost:8080/",
          "height": 282
        },
        "outputId": "2b7d5879-f89a-40e4-f563-def120a2c17a"
      },
      "source": [
        "plt.scatter(X['bmi'],y)"
      ],
      "execution_count": null,
      "outputs": [
        {
          "output_type": "execute_result",
          "data": {
            "text/plain": [
              "<matplotlib.collections.PathCollection at 0x7efe5b996128>"
            ]
          },
          "metadata": {
            "tags": []
          },
          "execution_count": 15
        },
        {
          "output_type": "display_data",
          "data": {
            "image/png": "[encoded data removed]",
            "text/plain": [
              "<Figure size 432x288 with 1 Axes>"
            ]
          },
          "metadata": {
            "tags": []
          }
        }
      ]
    },
    {
      "cell_type": "code",
      "metadata": {
        "id": "Bq2Z3n5Rinbe",
        "colab": {
          "base_uri": "https://localhost:8080/",
          "height": 282
        },
        "outputId": "ee74831d-d9ab-4285-8a4a-28463ac1dcda"
      },
      "source": [
        "plt.scatter(X['sex'],y)"
      ],
      "execution_count": null,
      "outputs": [
        {
          "output_type": "execute_result",
          "data": {
            "text/plain": [
              "<matplotlib.collections.PathCollection at 0x7efe5b8fd080>"
            ]
          },
          "metadata": {
            "tags": []
          },
          "execution_count": 16
        },
        {
          "output_type": "display_data",
          "data": {
            "image/png": "[encoded data removed]",
            "text/plain": [
              "<Figure size 432x288 with 1 Axes>"
            ]
          },
          "metadata": {
            "tags": []
          }
        }
      ]
    },
    {
      "cell_type": "code",
      "metadata": {
        "id": "1iNdcSt4iqri",
        "colab": {
          "base_uri": "https://localhost:8080/",
          "height": 282
        },
        "outputId": "d3856f7b-cab2-48a0-a218-f306da9d5896"
      },
      "source": [
        "plt.scatter(X['s4'],y)"
      ],
      "execution_count": null,
      "outputs": [
        {
          "output_type": "execute_result",
          "data": {
            "text/plain": [
              "<matplotlib.collections.PathCollection at 0x7efe5b8d59b0>"
            ]
          },
          "metadata": {
            "tags": []
          },
          "execution_count": 17
        },
        {
          "output_type": "display_data",
          "data": {
            "image/png": "[encoded data removed]",
            "text/plain": [
              "<Figure size 432x288 with 1 Axes>"
            ]
          },
          "metadata": {
            "tags": []
          }
        }
      ]
    },
    {
      "cell_type": "code",
      "metadata": {
        "id": "yshkB-8Gi1j5",
        "colab": {
          "base_uri": "https://localhost:8080/",
          "height": 250
        },
        "outputId": "b964be61-2da8-47b9-dd06-c860ac0cb1dd"
      },
      "source": [
        "X.corr().style.background_gradient(cmap='coolwarm')"
      ],
      "execution_count": null,
      "outputs": [
        {
          "output_type": "execute_result",
          "data": {
            "text/html": [
              "<style  type=\"text/css\" >\n",
              "    #T_21225cc0_5eff_11ea_8b0d_0242ac1c0002row0_col0 {\n",
              "            background-color:  #b40426;\n",
              "            color:  #f1f1f1;\n",
              "        }    #T_21225cc0_5eff_11ea_8b0d_0242ac1c0002row0_col1 {\n",
              "            background-color:  #c0d4f5;\n",
              "            color:  #000000;\n",
              "        }    #T_21225cc0_5eff_11ea_8b0d_0242ac1c0002row0_col2 {\n",
              "            background-color:  #c1d4f4;\n",
              "            color:  #000000;\n",
              "        }    #T_21225cc0_5eff_11ea_8b0d_0242ac1c0002row0_col3 {\n",
              "            background-color:  #cbd8ee;\n",
              "            color:  #000000;\n",
              "        }    #T_21225cc0_5eff_11ea_8b0d_0242ac1c0002row0_col4 {\n",
              "            background-color:  #86a9fc;\n",
              "            color:  #000000;\n",
              "        }    #T_21225cc0_5eff_11ea_8b0d_0242ac1c0002row0_col5 {\n",
              "            background-color:  #aec9fc;\n",
              "            color:  #000000;\n",
              "        }    #T_21225cc0_5eff_11ea_8b0d_0242ac1c0002row0_col6 {\n",
              "            background-color:  #bad0f8;\n",
              "            color:  #000000;\n",
              "        }    #T_21225cc0_5eff_11ea_8b0d_0242ac1c0002row0_col7 {\n",
              "            background-color:  #e7d7ce;\n",
              "            color:  #000000;\n",
              "        }    #T_21225cc0_5eff_11ea_8b0d_0242ac1c0002row0_col8 {\n",
              "            background-color:  #d7dce3;\n",
              "            color:  #000000;\n",
              "        }    #T_21225cc0_5eff_11ea_8b0d_0242ac1c0002row0_col9 {\n",
              "            background-color:  #cfdaea;\n",
              "            color:  #000000;\n",
              "        }    #T_21225cc0_5eff_11ea_8b0d_0242ac1c0002row1_col0 {\n",
              "            background-color:  #86a9fc;\n",
              "            color:  #000000;\n",
              "        }    #T_21225cc0_5eff_11ea_8b0d_0242ac1c0002row1_col1 {\n",
              "            background-color:  #b40426;\n",
              "            color:  #f1f1f1;\n",
              "        }    #T_21225cc0_5eff_11ea_8b0d_0242ac1c0002row1_col2 {\n",
              "            background-color:  #aac7fd;\n",
              "            color:  #000000;\n",
              "        }    #T_21225cc0_5eff_11ea_8b0d_0242ac1c0002row1_col3 {\n",
              "            background-color:  #b2ccfb;\n",
              "            color:  #000000;\n",
              "        }    #T_21225cc0_5eff_11ea_8b0d_0242ac1c0002row1_col4 {\n",
              "            background-color:  #3b4cc0;\n",
              "            color:  #f1f1f1;\n",
              "        }    #T_21225cc0_5eff_11ea_8b0d_0242ac1c0002row1_col5 {\n",
              "            background-color:  #98b9ff;\n",
              "            color:  #000000;\n",
              "        }    #T_21225cc0_5eff_11ea_8b0d_0242ac1c0002row1_col6 {\n",
              "            background-color:  #7da0f9;\n",
              "            color:  #000000;\n",
              "        }    #T_21225cc0_5eff_11ea_8b0d_0242ac1c0002row1_col7 {\n",
              "            background-color:  #f3c7b1;\n",
              "            color:  #000000;\n",
              "        }    #T_21225cc0_5eff_11ea_8b0d_0242ac1c0002row1_col8 {\n",
              "            background-color:  #bed2f6;\n",
              "            color:  #000000;\n",
              "        }    #T_21225cc0_5eff_11ea_8b0d_0242ac1c0002row1_col9 {\n",
              "            background-color:  #b9d0f9;\n",
              "            color:  #000000;\n",
              "        }    #T_21225cc0_5eff_11ea_8b0d_0242ac1c0002row2_col0 {\n",
              "            background-color:  #89acfd;\n",
              "            color:  #000000;\n",
              "        }    #T_21225cc0_5eff_11ea_8b0d_0242ac1c0002row2_col1 {\n",
              "            background-color:  #abc8fd;\n",
              "            color:  #000000;\n",
              "        }    #T_21225cc0_5eff_11ea_8b0d_0242ac1c0002row2_col2 {\n",
              "            background-color:  #b40426;\n",
              "            color:  #f1f1f1;\n",
              "        }    #T_21225cc0_5eff_11ea_8b0d_0242ac1c0002row2_col3 {\n",
              "            background-color:  #d9dce1;\n",
              "            color:  #000000;\n",
              "        }    #T_21225cc0_5eff_11ea_8b0d_0242ac1c0002row2_col4 {\n",
              "            background-color:  #82a6fb;\n",
              "            color:  #000000;\n",
              "        }    #T_21225cc0_5eff_11ea_8b0d_0242ac1c0002row2_col5 {\n",
              "            background-color:  #bad0f8;\n",
              "            color:  #000000;\n",
              "        }    #T_21225cc0_5eff_11ea_8b0d_0242ac1c0002row2_col6 {\n",
              "            background-color:  #80a3fa;\n",
              "            color:  #000000;\n",
              "        }    #T_21225cc0_5eff_11ea_8b0d_0242ac1c0002row2_col7 {\n",
              "            background-color:  #f7b99e;\n",
              "            color:  #000000;\n",
              "        }    #T_21225cc0_5eff_11ea_8b0d_0242ac1c0002row2_col8 {\n",
              "            background-color:  #f2cab5;\n",
              "            color:  #000000;\n",
              "        }    #T_21225cc0_5eff_11ea_8b0d_0242ac1c0002row2_col9 {\n",
              "            background-color:  #e2dad5;\n",
              "            color:  #000000;\n",
              "        }    #T_21225cc0_5eff_11ea_8b0d_0242ac1c0002row3_col0 {\n",
              "            background-color:  #bad0f8;\n",
              "            color:  #000000;\n",
              "        }    #T_21225cc0_5eff_11ea_8b0d_0242ac1c0002row3_col1 {\n",
              "            background-color:  #cfdaea;\n",
              "            color:  #000000;\n",
              "        }    #T_21225cc0_5eff_11ea_8b0d_0242ac1c0002row3_col2 {\n",
              "            background-color:  #ead4c8;\n",
              "            color:  #000000;\n",
              "        }    #T_21225cc0_5eff_11ea_8b0d_0242ac1c0002row3_col3 {\n",
              "            background-color:  #b40426;\n",
              "            color:  #f1f1f1;\n",
              "        }    #T_21225cc0_5eff_11ea_8b0d_0242ac1c0002row3_col4 {\n",
              "            background-color:  #80a3fa;\n",
              "            color:  #000000;\n",
              "        }    #T_21225cc0_5eff_11ea_8b0d_0242ac1c0002row3_col5 {\n",
              "            background-color:  #a5c3fe;\n",
              "            color:  #000000;\n",
              "        }    #T_21225cc0_5eff_11ea_8b0d_0242ac1c0002row3_col6 {\n",
              "            background-color:  #a6c4fe;\n",
              "            color:  #000000;\n",
              "        }    #T_21225cc0_5eff_11ea_8b0d_0242ac1c0002row3_col7 {\n",
              "            background-color:  #edd1c2;\n",
              "            color:  #000000;\n",
              "        }    #T_21225cc0_5eff_11ea_8b0d_0242ac1c0002row3_col8 {\n",
              "            background-color:  #ecd3c5;\n",
              "            color:  #000000;\n",
              "        }    #T_21225cc0_5eff_11ea_8b0d_0242ac1c0002row3_col9 {\n",
              "            background-color:  #e2dad5;\n",
              "            color:  #000000;\n",
              "        }    #T_21225cc0_5eff_11ea_8b0d_0242ac1c0002row4_col0 {\n",
              "            background-color:  #a2c1ff;\n",
              "            color:  #000000;\n",
              "        }    #T_21225cc0_5eff_11ea_8b0d_0242ac1c0002row4_col1 {\n",
              "            background-color:  #9ebeff;\n",
              "            color:  #000000;\n",
              "        }    #T_21225cc0_5eff_11ea_8b0d_0242ac1c0002row4_col2 {\n",
              "            background-color:  #cfdaea;\n",
              "            color:  #000000;\n",
              "        }    #T_21225cc0_5eff_11ea_8b0d_0242ac1c0002row4_col3 {\n",
              "            background-color:  #b2ccfb;\n",
              "            color:  #000000;\n",
              "        }    #T_21225cc0_5eff_11ea_8b0d_0242ac1c0002row4_col4 {\n",
              "            background-color:  #b40426;\n",
              "            color:  #f1f1f1;\n",
              "        }    #T_21225cc0_5eff_11ea_8b0d_0242ac1c0002row4_col5 {\n",
              "            background-color:  #d24b40;\n",
              "            color:  #f1f1f1;\n",
              "        }    #T_21225cc0_5eff_11ea_8b0d_0242ac1c0002row4_col6 {\n",
              "            background-color:  #d1dae9;\n",
              "            color:  #000000;\n",
              "        }    #T_21225cc0_5eff_11ea_8b0d_0242ac1c0002row4_col7 {\n",
              "            background-color:  #f59f80;\n",
              "            color:  #000000;\n",
              "        }    #T_21225cc0_5eff_11ea_8b0d_0242ac1c0002row4_col8 {\n",
              "            background-color:  #f7bca1;\n",
              "            color:  #000000;\n",
              "        }    #T_21225cc0_5eff_11ea_8b0d_0242ac1c0002row4_col9 {\n",
              "            background-color:  #d5dbe5;\n",
              "            color:  #000000;\n",
              "        }    #T_21225cc0_5eff_11ea_8b0d_0242ac1c0002row5_col0 {\n",
              "            background-color:  #96b7ff;\n",
              "            color:  #000000;\n",
              "        }    #T_21225cc0_5eff_11ea_8b0d_0242ac1c0002row5_col1 {\n",
              "            background-color:  #b9d0f9;\n",
              "            color:  #000000;\n",
              "        }    #T_21225cc0_5eff_11ea_8b0d_0242ac1c0002row5_col2 {\n",
              "            background-color:  #d2dbe8;\n",
              "            color:  #000000;\n",
              "        }    #T_21225cc0_5eff_11ea_8b0d_0242ac1c0002row5_col3 {\n",
              "            background-color:  #a2c1ff;\n",
              "            color:  #000000;\n",
              "        }    #T_21225cc0_5eff_11ea_8b0d_0242ac1c0002row5_col4 {\n",
              "            background-color:  #d85646;\n",
              "            color:  #000000;\n",
              "        }    #T_21225cc0_5eff_11ea_8b0d_0242ac1c0002row5_col5 {\n",
              "            background-color:  #b40426;\n",
              "            color:  #f1f1f1;\n",
              "        }    #T_21225cc0_5eff_11ea_8b0d_0242ac1c0002row5_col6 {\n",
              "            background-color:  #a2c1ff;\n",
              "            color:  #000000;\n",
              "        }    #T_21225cc0_5eff_11ea_8b0d_0242ac1c0002row5_col7 {\n",
              "            background-color:  #ed8366;\n",
              "            color:  #000000;\n",
              "        }    #T_21225cc0_5eff_11ea_8b0d_0242ac1c0002row5_col8 {\n",
              "            background-color:  #e0dbd8;\n",
              "            color:  #000000;\n",
              "        }    #T_21225cc0_5eff_11ea_8b0d_0242ac1c0002row5_col9 {\n",
              "            background-color:  #cdd9ec;\n",
              "            color:  #000000;\n",
              "        }    #T_21225cc0_5eff_11ea_8b0d_0242ac1c0002row6_col0 {\n",
              "            background-color:  #3b4cc0;\n",
              "            color:  #f1f1f1;\n",
              "        }    #T_21225cc0_5eff_11ea_8b0d_0242ac1c0002row6_col1 {\n",
              "            background-color:  #3b4cc0;\n",
              "            color:  #f1f1f1;\n",
              "        }    #T_21225cc0_5eff_11ea_8b0d_0242ac1c0002row6_col2 {\n",
              "            background-color:  #3b4cc0;\n",
              "            color:  #f1f1f1;\n",
              "        }    #T_21225cc0_5eff_11ea_8b0d_0242ac1c0002row6_col3 {\n",
              "            background-color:  #3b4cc0;\n",
              "            color:  #f1f1f1;\n",
              "        }    #T_21225cc0_5eff_11ea_8b0d_0242ac1c0002row6_col4 {\n",
              "            background-color:  #3f53c6;\n",
              "            color:  #f1f1f1;\n",
              "        }    #T_21225cc0_5eff_11ea_8b0d_0242ac1c0002row6_col5 {\n",
              "            background-color:  #3b4cc0;\n",
              "            color:  #f1f1f1;\n",
              "        }    #T_21225cc0_5eff_11ea_8b0d_0242ac1c0002row6_col6 {\n",
              "            background-color:  #b40426;\n",
              "            color:  #f1f1f1;\n",
              "        }    #T_21225cc0_5eff_11ea_8b0d_0242ac1c0002row6_col7 {\n",
              "            background-color:  #3b4cc0;\n",
              "            color:  #f1f1f1;\n",
              "        }    #T_21225cc0_5eff_11ea_8b0d_0242ac1c0002row6_col8 {\n",
              "            background-color:  #3b4cc0;\n",
              "            color:  #f1f1f1;\n",
              "        }    #T_21225cc0_5eff_11ea_8b0d_0242ac1c0002row6_col9 {\n",
              "            background-color:  #3b4cc0;\n",
              "            color:  #f1f1f1;\n",
              "        }    #T_21225cc0_5eff_11ea_8b0d_0242ac1c0002row7_col0 {\n",
              "            background-color:  #90b2fe;\n",
              "            color:  #000000;\n",
              "        }    #T_21225cc0_5eff_11ea_8b0d_0242ac1c0002row7_col1 {\n",
              "            background-color:  #e1dad6;\n",
              "            color:  #000000;\n",
              "        }    #T_21225cc0_5eff_11ea_8b0d_0242ac1c0002row7_col2 {\n",
              "            background-color:  #edd1c2;\n",
              "            color:  #000000;\n",
              "        }    #T_21225cc0_5eff_11ea_8b0d_0242ac1c0002row7_col3 {\n",
              "            background-color:  #b6cefa;\n",
              "            color:  #000000;\n",
              "        }    #T_21225cc0_5eff_11ea_8b0d_0242ac1c0002row7_col4 {\n",
              "            background-color:  #e3d9d3;\n",
              "            color:  #000000;\n",
              "        }    #T_21225cc0_5eff_11ea_8b0d_0242ac1c0002row7_col5 {\n",
              "            background-color:  #f7a688;\n",
              "            color:  #000000;\n",
              "        }    #T_21225cc0_5eff_11ea_8b0d_0242ac1c0002row7_col6 {\n",
              "            background-color:  #3b4cc0;\n",
              "            color:  #f1f1f1;\n",
              "        }    #T_21225cc0_5eff_11ea_8b0d_0242ac1c0002row7_col7 {\n",
              "            background-color:  #b40426;\n",
              "            color:  #f1f1f1;\n",
              "        }    #T_21225cc0_5eff_11ea_8b0d_0242ac1c0002row7_col8 {\n",
              "            background-color:  #f6a283;\n",
              "            color:  #000000;\n",
              "        }    #T_21225cc0_5eff_11ea_8b0d_0242ac1c0002row7_col9 {\n",
              "            background-color:  #e7d7ce;\n",
              "            color:  #000000;\n",
              "        }    #T_21225cc0_5eff_11ea_8b0d_0242ac1c0002row8_col0 {\n",
              "            background-color:  #a6c4fe;\n",
              "            color:  #000000;\n",
              "        }    #T_21225cc0_5eff_11ea_8b0d_0242ac1c0002row8_col1 {\n",
              "            background-color:  #bbd1f8;\n",
              "            color:  #000000;\n",
              "        }    #T_21225cc0_5eff_11ea_8b0d_0242ac1c0002row8_col2 {\n",
              "            background-color:  #f1ccb8;\n",
              "            color:  #000000;\n",
              "        }    #T_21225cc0_5eff_11ea_8b0d_0242ac1c0002row8_col3 {\n",
              "            background-color:  #d9dce1;\n",
              "            color:  #000000;\n",
              "        }    #T_21225cc0_5eff_11ea_8b0d_0242ac1c0002row8_col4 {\n",
              "            background-color:  #dcdddd;\n",
              "            color:  #000000;\n",
              "        }    #T_21225cc0_5eff_11ea_8b0d_0242ac1c0002row8_col5 {\n",
              "            background-color:  #cad8ef;\n",
              "            color:  #000000;\n",
              "        }    #T_21225cc0_5eff_11ea_8b0d_0242ac1c0002row8_col6 {\n",
              "            background-color:  #7a9df8;\n",
              "            color:  #000000;\n",
              "        }    #T_21225cc0_5eff_11ea_8b0d_0242ac1c0002row8_col7 {\n",
              "            background-color:  #f18d6f;\n",
              "            color:  #000000;\n",
              "        }    #T_21225cc0_5eff_11ea_8b0d_0242ac1c0002row8_col8 {\n",
              "            background-color:  #b40426;\n",
              "            color:  #f1f1f1;\n",
              "        }    #T_21225cc0_5eff_11ea_8b0d_0242ac1c0002row8_col9 {\n",
              "            background-color:  #efcfbf;\n",
              "            color:  #000000;\n",
              "        }    #T_21225cc0_5eff_11ea_8b0d_0242ac1c0002row9_col0 {\n",
              "            background-color:  #afcafc;\n",
              "            color:  #000000;\n",
              "        }    #T_21225cc0_5eff_11ea_8b0d_0242ac1c0002row9_col1 {\n",
              "            background-color:  #c9d7f0;\n",
              "            color:  #000000;\n",
              "        }    #T_21225cc0_5eff_11ea_8b0d_0242ac1c0002row9_col2 {\n",
              "            background-color:  #ead5c9;\n",
              "            color:  #000000;\n",
              "        }    #T_21225cc0_5eff_11ea_8b0d_0242ac1c0002row9_col3 {\n",
              "            background-color:  #d8dce2;\n",
              "            color:  #000000;\n",
              "        }    #T_21225cc0_5eff_11ea_8b0d_0242ac1c0002row9_col4 {\n",
              "            background-color:  #9fbfff;\n",
              "            color:  #000000;\n",
              "        }    #T_21225cc0_5eff_11ea_8b0d_0242ac1c0002row9_col5 {\n",
              "            background-color:  #c3d5f4;\n",
              "            color:  #000000;\n",
              "        }    #T_21225cc0_5eff_11ea_8b0d_0242ac1c0002row9_col6 {\n",
              "            background-color:  #93b5fe;\n",
              "            color:  #000000;\n",
              "        }    #T_21225cc0_5eff_11ea_8b0d_0242ac1c0002row9_col7 {\n",
              "            background-color:  #f7b89c;\n",
              "            color:  #000000;\n",
              "        }    #T_21225cc0_5eff_11ea_8b0d_0242ac1c0002row9_col8 {\n",
              "            background-color:  #f4c6af;\n",
              "            color:  #000000;\n",
              "        }    #T_21225cc0_5eff_11ea_8b0d_0242ac1c0002row9_col9 {\n",
              "            background-color:  #b40426;\n",
              "            color:  #f1f1f1;\n",
              "        }</style><table id=\"T_21225cc0_5eff_11ea_8b0d_0242ac1c0002\" ><thead>    <tr>        <th class=\"blank level0\" ></th>        <th class=\"col_heading level0 col0\" >age</th>        <th class=\"col_heading level0 col1\" >sex</th>        <th class=\"col_heading level0 col2\" >bmi</th>        <th class=\"col_heading level0 col3\" >bp</th>        <th class=\"col_heading level0 col4\" >s1</th>        <th class=\"col_heading level0 col5\" >s2</th>        <th class=\"col_heading level0 col6\" >s3</th>        <th class=\"col_heading level0 col7\" >s4</th>        <th class=\"col_heading level0 col8\" >s5</th>        <th class=\"col_heading level0 col9\" >s6</th>    </tr></thead><tbody>\n",
              "                <tr>\n",
              "                        <th id=\"T_21225cc0_5eff_11ea_8b0d_0242ac1c0002level0_row0\" class=\"row_heading level0 row0\" >age</th>\n",
              "                        <td id=\"T_21225cc0_5eff_11ea_8b0d_0242ac1c0002row0_col0\" class=\"data row0 col0\" >1</td>\n",
              "                        <td id=\"T_21225cc0_5eff_11ea_8b0d_0242ac1c0002row0_col1\" class=\"data row0 col1\" >0.173737</td>\n",
              "                        <td id=\"T_21225cc0_5eff_11ea_8b0d_0242ac1c0002row0_col2\" class=\"data row0 col2\" >0.185085</td>\n",
              "                        <td id=\"T_21225cc0_5eff_11ea_8b0d_0242ac1c0002row0_col3\" class=\"data row0 col3\" >0.335427</td>\n",
              "                        <td id=\"T_21225cc0_5eff_11ea_8b0d_0242ac1c0002row0_col4\" class=\"data row0 col4\" >0.260061</td>\n",
              "                        <td id=\"T_21225cc0_5eff_11ea_8b0d_0242ac1c0002row0_col5\" class=\"data row0 col5\" >0.219243</td>\n",
              "                        <td id=\"T_21225cc0_5eff_11ea_8b0d_0242ac1c0002row0_col6\" class=\"data row0 col6\" >-0.075181</td>\n",
              "                        <td id=\"T_21225cc0_5eff_11ea_8b0d_0242ac1c0002row0_col7\" class=\"data row0 col7\" >0.203841</td>\n",
              "                        <td id=\"T_21225cc0_5eff_11ea_8b0d_0242ac1c0002row0_col8\" class=\"data row0 col8\" >0.270777</td>\n",
              "                        <td id=\"T_21225cc0_5eff_11ea_8b0d_0242ac1c0002row0_col9\" class=\"data row0 col9\" >0.301731</td>\n",
              "            </tr>\n",
              "            <tr>\n",
              "                        <th id=\"T_21225cc0_5eff_11ea_8b0d_0242ac1c0002level0_row1\" class=\"row_heading level0 row1\" >sex</th>\n",
              "                        <td id=\"T_21225cc0_5eff_11ea_8b0d_0242ac1c0002row1_col0\" class=\"data row1 col0\" >0.173737</td>\n",
              "                        <td id=\"T_21225cc0_5eff_11ea_8b0d_0242ac1c0002row1_col1\" class=\"data row1 col1\" >1</td>\n",
              "                        <td id=\"T_21225cc0_5eff_11ea_8b0d_0242ac1c0002row1_col2\" class=\"data row1 col2\" >0.0881614</td>\n",
              "                        <td id=\"T_21225cc0_5eff_11ea_8b0d_0242ac1c0002row1_col3\" class=\"data row1 col3\" >0.241013</td>\n",
              "                        <td id=\"T_21225cc0_5eff_11ea_8b0d_0242ac1c0002row1_col4\" class=\"data row1 col4\" >0.0352768</td>\n",
              "                        <td id=\"T_21225cc0_5eff_11ea_8b0d_0242ac1c0002row1_col5\" class=\"data row1 col5\" >0.142637</td>\n",
              "                        <td id=\"T_21225cc0_5eff_11ea_8b0d_0242ac1c0002row1_col6\" class=\"data row1 col6\" >-0.37909</td>\n",
              "                        <td id=\"T_21225cc0_5eff_11ea_8b0d_0242ac1c0002row1_col7\" class=\"data row1 col7\" >0.332115</td>\n",
              "                        <td id=\"T_21225cc0_5eff_11ea_8b0d_0242ac1c0002row1_col8\" class=\"data row1 col8\" >0.149918</td>\n",
              "                        <td id=\"T_21225cc0_5eff_11ea_8b0d_0242ac1c0002row1_col9\" class=\"data row1 col9\" >0.208133</td>\n",
              "            </tr>\n",
              "            <tr>\n",
              "                        <th id=\"T_21225cc0_5eff_11ea_8b0d_0242ac1c0002level0_row2\" class=\"row_heading level0 row2\" >bmi</th>\n",
              "                        <td id=\"T_21225cc0_5eff_11ea_8b0d_0242ac1c0002row2_col0\" class=\"data row2 col0\" >0.185085</td>\n",
              "                        <td id=\"T_21225cc0_5eff_11ea_8b0d_0242ac1c0002row2_col1\" class=\"data row2 col1\" >0.0881614</td>\n",
              "                        <td id=\"T_21225cc0_5eff_11ea_8b0d_0242ac1c0002row2_col2\" class=\"data row2 col2\" >1</td>\n",
              "                        <td id=\"T_21225cc0_5eff_11ea_8b0d_0242ac1c0002row2_col3\" class=\"data row2 col3\" >0.395415</td>\n",
              "                        <td id=\"T_21225cc0_5eff_11ea_8b0d_0242ac1c0002row2_col4\" class=\"data row2 col4\" >0.249777</td>\n",
              "                        <td id=\"T_21225cc0_5eff_11ea_8b0d_0242ac1c0002row2_col5\" class=\"data row2 col5\" >0.26117</td>\n",
              "                        <td id=\"T_21225cc0_5eff_11ea_8b0d_0242ac1c0002row2_col6\" class=\"data row2 col6\" >-0.366811</td>\n",
              "                        <td id=\"T_21225cc0_5eff_11ea_8b0d_0242ac1c0002row2_col7\" class=\"data row2 col7\" >0.413807</td>\n",
              "                        <td id=\"T_21225cc0_5eff_11ea_8b0d_0242ac1c0002row2_col8\" class=\"data row2 col8\" >0.446159</td>\n",
              "                        <td id=\"T_21225cc0_5eff_11ea_8b0d_0242ac1c0002row2_col9\" class=\"data row2 col9\" >0.38868</td>\n",
              "            </tr>\n",
              "            <tr>\n",
              "                        <th id=\"T_21225cc0_5eff_11ea_8b0d_0242ac1c0002level0_row3\" class=\"row_heading level0 row3\" >bp</th>\n",
              "                        <td id=\"T_21225cc0_5eff_11ea_8b0d_0242ac1c0002row3_col0\" class=\"data row3 col0\" >0.335427</td>\n",
              "                        <td id=\"T_21225cc0_5eff_11ea_8b0d_0242ac1c0002row3_col1\" class=\"data row3 col1\" >0.241013</td>\n",
              "                        <td id=\"T_21225cc0_5eff_11ea_8b0d_0242ac1c0002row3_col2\" class=\"data row3 col2\" >0.395415</td>\n",
              "                        <td id=\"T_21225cc0_5eff_11ea_8b0d_0242ac1c0002row3_col3\" class=\"data row3 col3\" >1</td>\n",
              "                        <td id=\"T_21225cc0_5eff_11ea_8b0d_0242ac1c0002row3_col4\" class=\"data row3 col4\" >0.24247</td>\n",
              "                        <td id=\"T_21225cc0_5eff_11ea_8b0d_0242ac1c0002row3_col5\" class=\"data row3 col5\" >0.185558</td>\n",
              "                        <td id=\"T_21225cc0_5eff_11ea_8b0d_0242ac1c0002row3_col6\" class=\"data row3 col6\" >-0.178761</td>\n",
              "                        <td id=\"T_21225cc0_5eff_11ea_8b0d_0242ac1c0002row3_col7\" class=\"data row3 col7\" >0.257653</td>\n",
              "                        <td id=\"T_21225cc0_5eff_11ea_8b0d_0242ac1c0002row3_col8\" class=\"data row3 col8\" >0.393478</td>\n",
              "                        <td id=\"T_21225cc0_5eff_11ea_8b0d_0242ac1c0002row3_col9\" class=\"data row3 col9\" >0.390429</td>\n",
              "            </tr>\n",
              "            <tr>\n",
              "                        <th id=\"T_21225cc0_5eff_11ea_8b0d_0242ac1c0002level0_row4\" class=\"row_heading level0 row4\" >s1</th>\n",
              "                        <td id=\"T_21225cc0_5eff_11ea_8b0d_0242ac1c0002row4_col0\" class=\"data row4 col0\" >0.260061</td>\n",
              "                        <td id=\"T_21225cc0_5eff_11ea_8b0d_0242ac1c0002row4_col1\" class=\"data row4 col1\" >0.0352768</td>\n",
              "                        <td id=\"T_21225cc0_5eff_11ea_8b0d_0242ac1c0002row4_col2\" class=\"data row4 col2\" >0.249777</td>\n",
              "                        <td id=\"T_21225cc0_5eff_11ea_8b0d_0242ac1c0002row4_col3\" class=\"data row4 col3\" >0.24247</td>\n",
              "                        <td id=\"T_21225cc0_5eff_11ea_8b0d_0242ac1c0002row4_col4\" class=\"data row4 col4\" >1</td>\n",
              "                        <td id=\"T_21225cc0_5eff_11ea_8b0d_0242ac1c0002row4_col5\" class=\"data row4 col5\" >0.896663</td>\n",
              "                        <td id=\"T_21225cc0_5eff_11ea_8b0d_0242ac1c0002row4_col6\" class=\"data row4 col6\" >0.0515194</td>\n",
              "                        <td id=\"T_21225cc0_5eff_11ea_8b0d_0242ac1c0002row4_col7\" class=\"data row4 col7\" >0.542207</td>\n",
              "                        <td id=\"T_21225cc0_5eff_11ea_8b0d_0242ac1c0002row4_col8\" class=\"data row4 col8\" >0.515501</td>\n",
              "                        <td id=\"T_21225cc0_5eff_11ea_8b0d_0242ac1c0002row4_col9\" class=\"data row4 col9\" >0.325717</td>\n",
              "            </tr>\n",
              "            <tr>\n",
              "                        <th id=\"T_21225cc0_5eff_11ea_8b0d_0242ac1c0002level0_row5\" class=\"row_heading level0 row5\" >s2</th>\n",
              "                        <td id=\"T_21225cc0_5eff_11ea_8b0d_0242ac1c0002row5_col0\" class=\"data row5 col0\" >0.219243</td>\n",
              "                        <td id=\"T_21225cc0_5eff_11ea_8b0d_0242ac1c0002row5_col1\" class=\"data row5 col1\" >0.142637</td>\n",
              "                        <td id=\"T_21225cc0_5eff_11ea_8b0d_0242ac1c0002row5_col2\" class=\"data row5 col2\" >0.26117</td>\n",
              "                        <td id=\"T_21225cc0_5eff_11ea_8b0d_0242ac1c0002row5_col3\" class=\"data row5 col3\" >0.185558</td>\n",
              "                        <td id=\"T_21225cc0_5eff_11ea_8b0d_0242ac1c0002row5_col4\" class=\"data row5 col4\" >0.896663</td>\n",
              "                        <td id=\"T_21225cc0_5eff_11ea_8b0d_0242ac1c0002row5_col5\" class=\"data row5 col5\" >1</td>\n",
              "                        <td id=\"T_21225cc0_5eff_11ea_8b0d_0242ac1c0002row5_col6\" class=\"data row5 col6\" >-0.196455</td>\n",
              "                        <td id=\"T_21225cc0_5eff_11ea_8b0d_0242ac1c0002row5_col7\" class=\"data row5 col7\" >0.659817</td>\n",
              "                        <td id=\"T_21225cc0_5eff_11ea_8b0d_0242ac1c0002row5_col8\" class=\"data row5 col8\" >0.318353</td>\n",
              "                        <td id=\"T_21225cc0_5eff_11ea_8b0d_0242ac1c0002row5_col9\" class=\"data row5 col9\" >0.2906</td>\n",
              "            </tr>\n",
              "            <tr>\n",
              "                        <th id=\"T_21225cc0_5eff_11ea_8b0d_0242ac1c0002level0_row6\" class=\"row_heading level0 row6\" >s3</th>\n",
              "                        <td id=\"T_21225cc0_5eff_11ea_8b0d_0242ac1c0002row6_col0\" class=\"data row6 col0\" >-0.075181</td>\n",
              "                        <td id=\"T_21225cc0_5eff_11ea_8b0d_0242ac1c0002row6_col1\" class=\"data row6 col1\" >-0.37909</td>\n",
              "                        <td id=\"T_21225cc0_5eff_11ea_8b0d_0242ac1c0002row6_col2\" class=\"data row6 col2\" >-0.366811</td>\n",
              "                        <td id=\"T_21225cc0_5eff_11ea_8b0d_0242ac1c0002row6_col3\" class=\"data row6 col3\" >-0.178761</td>\n",
              "                        <td id=\"T_21225cc0_5eff_11ea_8b0d_0242ac1c0002row6_col4\" class=\"data row6 col4\" >0.0515194</td>\n",
              "                        <td id=\"T_21225cc0_5eff_11ea_8b0d_0242ac1c0002row6_col5\" class=\"data row6 col5\" >-0.196455</td>\n",
              "                        <td id=\"T_21225cc0_5eff_11ea_8b0d_0242ac1c0002row6_col6\" class=\"data row6 col6\" >1</td>\n",
              "                        <td id=\"T_21225cc0_5eff_11ea_8b0d_0242ac1c0002row6_col7\" class=\"data row6 col7\" >-0.738493</td>\n",
              "                        <td id=\"T_21225cc0_5eff_11ea_8b0d_0242ac1c0002row6_col8\" class=\"data row6 col8\" >-0.398577</td>\n",
              "                        <td id=\"T_21225cc0_5eff_11ea_8b0d_0242ac1c0002row6_col9\" class=\"data row6 col9\" >-0.273697</td>\n",
              "            </tr>\n",
              "            <tr>\n",
              "                        <th id=\"T_21225cc0_5eff_11ea_8b0d_0242ac1c0002level0_row7\" class=\"row_heading level0 row7\" >s4</th>\n",
              "                        <td id=\"T_21225cc0_5eff_11ea_8b0d_0242ac1c0002row7_col0\" class=\"data row7 col0\" >0.203841</td>\n",
              "                        <td id=\"T_21225cc0_5eff_11ea_8b0d_0242ac1c0002row7_col1\" class=\"data row7 col1\" >0.332115</td>\n",
              "                        <td id=\"T_21225cc0_5eff_11ea_8b0d_0242ac1c0002row7_col2\" class=\"data row7 col2\" >0.413807</td>\n",
              "                        <td id=\"T_21225cc0_5eff_11ea_8b0d_0242ac1c0002row7_col3\" class=\"data row7 col3\" >0.257653</td>\n",
              "                        <td id=\"T_21225cc0_5eff_11ea_8b0d_0242ac1c0002row7_col4\" class=\"data row7 col4\" >0.542207</td>\n",
              "                        <td id=\"T_21225cc0_5eff_11ea_8b0d_0242ac1c0002row7_col5\" class=\"data row7 col5\" >0.659817</td>\n",
              "                        <td id=\"T_21225cc0_5eff_11ea_8b0d_0242ac1c0002row7_col6\" class=\"data row7 col6\" >-0.738493</td>\n",
              "                        <td id=\"T_21225cc0_5eff_11ea_8b0d_0242ac1c0002row7_col7\" class=\"data row7 col7\" >1</td>\n",
              "                        <td id=\"T_21225cc0_5eff_11ea_8b0d_0242ac1c0002row7_col8\" class=\"data row7 col8\" >0.617857</td>\n",
              "                        <td id=\"T_21225cc0_5eff_11ea_8b0d_0242ac1c0002row7_col9\" class=\"data row7 col9\" >0.417212</td>\n",
              "            </tr>\n",
              "            <tr>\n",
              "                        <th id=\"T_21225cc0_5eff_11ea_8b0d_0242ac1c0002level0_row8\" class=\"row_heading level0 row8\" >s5</th>\n",
              "                        <td id=\"T_21225cc0_5eff_11ea_8b0d_0242ac1c0002row8_col0\" class=\"data row8 col0\" >0.270777</td>\n",
              "                        <td id=\"T_21225cc0_5eff_11ea_8b0d_0242ac1c0002row8_col1\" class=\"data row8 col1\" >0.149918</td>\n",
              "                        <td id=\"T_21225cc0_5eff_11ea_8b0d_0242ac1c0002row8_col2\" class=\"data row8 col2\" >0.446159</td>\n",
              "                        <td id=\"T_21225cc0_5eff_11ea_8b0d_0242ac1c0002row8_col3\" class=\"data row8 col3\" >0.393478</td>\n",
              "                        <td id=\"T_21225cc0_5eff_11ea_8b0d_0242ac1c0002row8_col4\" class=\"data row8 col4\" >0.515501</td>\n",
              "                        <td id=\"T_21225cc0_5eff_11ea_8b0d_0242ac1c0002row8_col5\" class=\"data row8 col5\" >0.318353</td>\n",
              "                        <td id=\"T_21225cc0_5eff_11ea_8b0d_0242ac1c0002row8_col6\" class=\"data row8 col6\" >-0.398577</td>\n",
              "                        <td id=\"T_21225cc0_5eff_11ea_8b0d_0242ac1c0002row8_col7\" class=\"data row8 col7\" >0.617857</td>\n",
              "                        <td id=\"T_21225cc0_5eff_11ea_8b0d_0242ac1c0002row8_col8\" class=\"data row8 col8\" >1</td>\n",
              "                        <td id=\"T_21225cc0_5eff_11ea_8b0d_0242ac1c0002row8_col9\" class=\"data row8 col9\" >0.46467</td>\n",
              "            </tr>\n",
              "            <tr>\n",
              "                        <th id=\"T_21225cc0_5eff_11ea_8b0d_0242ac1c0002level0_row9\" class=\"row_heading level0 row9\" >s6</th>\n",
              "                        <td id=\"T_21225cc0_5eff_11ea_8b0d_0242ac1c0002row9_col0\" class=\"data row9 col0\" >0.301731</td>\n",
              "                        <td id=\"T_21225cc0_5eff_11ea_8b0d_0242ac1c0002row9_col1\" class=\"data row9 col1\" >0.208133</td>\n",
              "                        <td id=\"T_21225cc0_5eff_11ea_8b0d_0242ac1c0002row9_col2\" class=\"data row9 col2\" >0.38868</td>\n",
              "                        <td id=\"T_21225cc0_5eff_11ea_8b0d_0242ac1c0002row9_col3\" class=\"data row9 col3\" >0.390429</td>\n",
              "                        <td id=\"T_21225cc0_5eff_11ea_8b0d_0242ac1c0002row9_col4\" class=\"data row9 col4\" >0.325717</td>\n",
              "                        <td id=\"T_21225cc0_5eff_11ea_8b0d_0242ac1c0002row9_col5\" class=\"data row9 col5\" >0.2906</td>\n",
              "                        <td id=\"T_21225cc0_5eff_11ea_8b0d_0242ac1c0002row9_col6\" class=\"data row9 col6\" >-0.273697</td>\n",
              "                        <td id=\"T_21225cc0_5eff_11ea_8b0d_0242ac1c0002row9_col7\" class=\"data row9 col7\" >0.417212</td>\n",
              "                        <td id=\"T_21225cc0_5eff_11ea_8b0d_0242ac1c0002row9_col8\" class=\"data row9 col8\" >0.46467</td>\n",
              "                        <td id=\"T_21225cc0_5eff_11ea_8b0d_0242ac1c0002row9_col9\" class=\"data row9 col9\" >1</td>\n",
              "            </tr>\n",
              "    </tbody></table>"
            ],
            "text/plain": [
              "<pandas.io.formats.style.Styler at 0x7efe5b890cf8>"
            ]
          },
          "metadata": {
            "tags": []
          },
          "execution_count": 18
        }
      ]
    },
    {
      "cell_type": "code",
      "metadata": {
        "id": "YnTIctowjXKB"
      },
      "source": [
        "random.seed(123)"
      ],
      "execution_count": null,
      "outputs": []
    },
    {
      "cell_type": "code",
      "metadata": {
        "id": "UiD8H4PBjgUM"
      },
      "source": [
        "x_training_set, x_test_set, y_training_set, y_test_set = train_test_split(X,y,test_size=0.20,random_state=1)"
      ],
      "execution_count": null,
      "outputs": []
    },
    {
      "cell_type": "code",
      "metadata": {
        "id": "y8s_1xnJjkkN",
        "colab": {
          "base_uri": "https://localhost:8080/"
        },
        "outputId": "904a38d4-dc73-40e6-bc12-fb49f9b71108"
      },
      "source": [
        "x_test_set.count()"
      ],
      "execution_count": null,
      "outputs": [
        {
          "output_type": "execute_result",
          "data": {
            "text/plain": [
              "age    89\n",
              "sex    89\n",
              "bmi    89\n",
              "bp     89\n",
              "s1     89\n",
              "s2     89\n",
              "s3     89\n",
              "s4     89\n",
              "s5     89\n",
              "s6     89\n",
              "dtype: int64"
            ]
          },
          "metadata": {},
          "execution_count": 15
        }
      ]
    },
    {
      "cell_type": "code",
      "metadata": {
        "id": "nLDK4Gy6oufi",
        "colab": {
          "base_uri": "https://localhost:8080/"
        },
        "outputId": "c11ea84c-d495-41bd-c378-c72da591d214"
      },
      "source": [
        "x_training_set.count()"
      ],
      "execution_count": null,
      "outputs": [
        {
          "output_type": "execute_result",
          "data": {
            "text/plain": [
              "age    353\n",
              "sex    353\n",
              "bmi    353\n",
              "bp     353\n",
              "s1     353\n",
              "s2     353\n",
              "s3     353\n",
              "s4     353\n",
              "s5     353\n",
              "s6     353\n",
              "dtype: int64"
            ]
          },
          "metadata": {},
          "execution_count": 16
        }
      ]
    },
    {
      "cell_type": "code",
      "metadata": {
        "id": "fg58o_7pjv5c",
        "colab": {
          "base_uri": "https://localhost:8080/"
        },
        "outputId": "bbd6d45e-81f3-4eff-f946-e2be1f449ed6"
      },
      "source": [
        "lin_model = LinearRegression()\n",
        "lin_model.fit(x_training_set,y_training_set)"
      ],
      "execution_count": null,
      "outputs": [
        {
          "output_type": "execute_result",
          "data": {
            "text/plain": [
              "LinearRegression(copy_X=True, fit_intercept=True, n_jobs=None, normalize=False)"
            ]
          },
          "metadata": {},
          "execution_count": 17
        }
      ]
    },
    {
      "cell_type": "code",
      "metadata": {
        "id": "wQ1F3cHejyno"
      },
      "source": [
        "y_predicted_LR = lin_model.predict(x_test_set)"
      ],
      "execution_count": null,
      "outputs": []
    },
    {
      "cell_type": "code",
      "metadata": {
        "id": "0ozQP-Pdj1Y_",
        "colab": {
          "base_uri": "https://localhost:8080/"
        },
        "outputId": "e3e68376-3ea1-4495-97e7-89093eb4fa1b"
      },
      "source": [
        "mean_squared_error(y_test_set,y_predicted_LR)"
      ],
      "execution_count": null,
      "outputs": [
        {
          "output_type": "execute_result",
          "data": {
            "text/plain": [
              "2992.5576814529445"
            ]
          },
          "metadata": {},
          "execution_count": 19
        }
      ]
    },
    {
      "cell_type": "code",
      "metadata": {
        "id": "wEeI87z2kGp2",
        "colab": {
          "base_uri": "https://localhost:8080/"
        },
        "outputId": "d3455c98-93ce-496d-bb7a-aeb98c8ab37e"
      },
      "source": [
        "dt_model = DecisionTreeRegressor(max_depth=2,random_state=1,ccp_alpha=0)\n",
        "dt_model.fit(x_training_set,y_training_set)"
      ],
      "execution_count": null,
      "outputs": [
        {
          "output_type": "execute_result",
          "data": {
            "text/plain": [
              "DecisionTreeRegressor(ccp_alpha=0, criterion='mse', max_depth=2,\n",
              "                      max_features=None, max_leaf_nodes=None,\n",
              "                      min_impurity_decrease=0.0, min_impurity_split=None,\n",
              "                      min_samples_leaf=1, min_samples_split=2,\n",
              "                      min_weight_fraction_leaf=0.0, presort='deprecated',\n",
              "                      random_state=1, splitter='best')"
            ]
          },
          "metadata": {},
          "execution_count": 20
        }
      ]
    },
    {
      "cell_type": "code",
      "metadata": {
        "id": "psEbjme3kH6X"
      },
      "source": [
        "y_predicted_DT =dt_model.predict(x_test_set)"
      ],
      "execution_count": null,
      "outputs": []
    },
    {
      "cell_type": "code",
      "metadata": {
        "id": "vqO3wYbRkKUw",
        "colab": {
          "base_uri": "https://localhost:8080/"
        },
        "outputId": "bd0c4ee8-69d0-450f-eca1-651dac680352"
      },
      "source": [
        "mean_squared_error(y_test_set,y_predicted_DT)"
      ],
      "execution_count": null,
      "outputs": [
        {
          "output_type": "execute_result",
          "data": {
            "text/plain": [
              "4090.783437338862"
            ]
          },
          "metadata": {},
          "execution_count": 22
        }
      ]
    },
    {
      "cell_type": "code",
      "metadata": {
        "id": "iNOWRSNfkWJy",
        "colab": {
          "base_uri": "https://localhost:8080/"
        },
        "outputId": "4a3a206e-cfef-41d3-8dde-917916653a77"
      },
      "source": [
        "rft_model = RandomForestRegressor(max_depth=2,random_state=1)\n",
        "rft_model.fit(x_training_set,y_training_set)"
      ],
      "execution_count": null,
      "outputs": [
        {
          "output_type": "execute_result",
          "data": {
            "text/plain": [
              "RandomForestRegressor(bootstrap=True, ccp_alpha=0.0, criterion='mse',\n",
              "                      max_depth=2, max_features='auto', max_leaf_nodes=None,\n",
              "                      max_samples=None, min_impurity_decrease=0.0,\n",
              "                      min_impurity_split=None, min_samples_leaf=1,\n",
              "                      min_samples_split=2, min_weight_fraction_leaf=0.0,\n",
              "                      n_estimators=100, n_jobs=None, oob_score=False,\n",
              "                      random_state=1, verbose=0, warm_start=False)"
            ]
          },
          "metadata": {},
          "execution_count": 23
        }
      ]
    },
    {
      "cell_type": "code",
      "metadata": {
        "id": "CiuP-fVOkYyc"
      },
      "source": [
        "y_hat = rft_model.predict(x_test_set)"
      ],
      "execution_count": null,
      "outputs": []
    },
    {
      "cell_type": "code",
      "metadata": {
        "id": "wou8OrL3kbnd",
        "colab": {
          "base_uri": "https://localhost:8080/"
        },
        "outputId": "e788a25a-4056-4d0e-c1c5-ebc26b866911"
      },
      "source": [
        "mean_squared_error(y_test_set,y_hat)"
      ],
      "execution_count": null,
      "outputs": [
        {
          "output_type": "execute_result",
          "data": {
            "text/plain": [
              "3550.535754627276"
            ]
          },
          "metadata": {},
          "execution_count": 25
        }
      ]
    },
    {
      "cell_type": "code",
      "metadata": {
        "id": "6Saeno2PlJka",
        "colab": {
          "base_uri": "https://localhost:8080/"
        },
        "outputId": "a0b97be7-feee-4e59-ddc5-a44eb5eadb5a"
      },
      "source": [
        "lasso_model = Lasso(alpha=0.01)\n",
        "lasso_model.fit(x_training_set,y_training_set)"
      ],
      "execution_count": null,
      "outputs": [
        {
          "output_type": "execute_result",
          "data": {
            "text/plain": [
              "Lasso(alpha=0.01, copy_X=True, fit_intercept=True, max_iter=1000,\n",
              "      normalize=False, positive=False, precompute=False, random_state=None,\n",
              "      selection='cyclic', tol=0.0001, warm_start=False)"
            ]
          },
          "metadata": {},
          "execution_count": 26
        }
      ]
    },
    {
      "cell_type": "code",
      "metadata": {
        "id": "Kszqqn6qlO7K"
      },
      "source": [
        "y_predicted_Lasso = lasso_model.predict(x_test_set)"
      ],
      "execution_count": null,
      "outputs": []
    },
    {
      "cell_type": "code",
      "metadata": {
        "id": "MmawYsrNlP8B",
        "colab": {
          "base_uri": "https://localhost:8080/"
        },
        "outputId": "95853782-1342-4ab1-b88b-2e44785e1052"
      },
      "source": [
        "mean_squared_error(y_test_set,y_predicted_Lasso)"
      ],
      "execution_count": null,
      "outputs": [
        {
          "output_type": "execute_result",
          "data": {
            "text/plain": [
              "3026.8691720962242"
            ]
          },
          "metadata": {},
          "execution_count": 28
        }
      ]
    },
    {
      "cell_type": "code",
      "metadata": {
        "id": "W4cNXiRXlSvE",
        "colab": {
          "base_uri": "https://localhost:8080/"
        },
        "outputId": "d66f0cd9-caa0-4081-b162-56acf139e76c"
      },
      "source": [
        "ridge_model = Ridge(alpha=.5)\n",
        "ridge_model.fit(x_training_set,y_training_set)"
      ],
      "execution_count": null,
      "outputs": [
        {
          "output_type": "execute_result",
          "data": {
            "text/plain": [
              "Ridge(alpha=0.5, copy_X=True, fit_intercept=True, max_iter=None,\n",
              "      normalize=False, random_state=None, solver='auto', tol=0.001)"
            ]
          },
          "metadata": {},
          "execution_count": 29
        }
      ]
    },
    {
      "cell_type": "code",
      "metadata": {
        "id": "6KE-HFqSlVDP"
      },
      "source": [
        "y_predicted_ridge = ridge_model.predict(x_test_set)"
      ],
      "execution_count": null,
      "outputs": []
    },
    {
      "cell_type": "code",
      "metadata": {
        "id": "xHg_i3mNlXQr",
        "colab": {
          "base_uri": "https://localhost:8080/",
          "height": 34
        },
        "outputId": "2c0a7bd4-72eb-49ef-ef85-ebbcb4bcaf17"
      },
      "source": [
        "mean_squared_error(y_test_set,y_predicted_ridge)"
      ],
      "execution_count": null,
      "outputs": [
        {
          "output_type": "execute_result",
          "data": {
            "text/plain": [
              "3106.2573622868304"
            ]
          },
          "metadata": {
            "tags": []
          },
          "execution_count": 60
        }
      ]
    }
  ]
}